{
 "cells": [
  {
   "cell_type": "code",
   "execution_count": 1,
   "id": "abe1a4d1",
   "metadata": {
    "collapsed": true
   },
   "outputs": [
    {
     "name": "stdout",
     "output_type": "stream",
     "text": [
      "Looking in links: https://download.pytorch.org/whl/lts/1.8/torch_lts.html\n",
      "Requirement already satisfied: torch==1.8.2+cu111 in c:\\users\\oriel\\appdata\\local\\programs\\python\\python39\\lib\\site-packages (1.8.2+cu111)\n",
      "Requirement already satisfied: torchvision==0.9.2+cu111 in c:\\users\\oriel\\appdata\\local\\programs\\python\\python39\\lib\\site-packages (0.9.2+cu111)\n",
      "Requirement already satisfied: torchaudio===0.8.2 in c:\\users\\oriel\\appdata\\local\\programs\\python\\python39\\lib\\site-packages (0.8.2)\n",
      "Requirement already satisfied: numpy in c:\\users\\oriel\\appdata\\local\\programs\\python\\python39\\lib\\site-packages (from torch==1.8.2+cu111) (1.21.2)\n",
      "Requirement already satisfied: typing-extensions in c:\\users\\oriel\\appdata\\local\\programs\\python\\python39\\lib\\site-packages (from torch==1.8.2+cu111) (3.10.0.2)\n",
      "Requirement already satisfied: pillow>=4.1.1 in c:\\users\\oriel\\appdata\\local\\programs\\python\\python39\\lib\\site-packages (from torchvision==0.9.2+cu111) (8.3.2)\n"
     ]
    },
    {
     "name": "stderr",
     "output_type": "stream",
     "text": [
      "WARNING: You are using pip version 21.1.3; however, version 21.2.4 is available.\n",
      "You should consider upgrading via the 'c:\\users\\oriel\\appdata\\local\\programs\\python\\python39\\python.exe -m pip install --upgrade pip' command.\n"
     ]
    }
   ],
   "source": [
    "!pip install torch==1.8.2+cu111 torchvision==0.9.2+cu111 torchaudio===0.8.2 -f https://download.pytorch.org/whl/lts/1.8/torch_lts.html"
   ]
  },
  {
   "cell_type": "code",
   "execution_count": 14,
   "id": "fae8d637",
   "metadata": {},
   "outputs": [],
   "source": [
    "# import dependencies\n",
    "import torch\n",
    "from matplotlib import pyplot as plt\n",
    "import numpy as np\n",
    "import cv2"
   ]
  },
  {
   "cell_type": "code",
   "execution_count": 22,
   "id": "f690a48c",
   "metadata": {},
   "outputs": [
    {
     "name": "stderr",
     "output_type": "stream",
     "text": [
      "Downloading: \"https://github.com/ultralytics/yolov5/archive/master.zip\" to C:\\Users\\oriel/.cache\\torch\\hub\\master.zip\n",
      "YOLOv5  2021-9-18 torch 1.8.2+cu111 CUDA:0 (Quadro P520, 2048.0MB)\n",
      "\n"
     ]
    },
    {
     "name": "stdout",
     "output_type": "stream",
     "text": [
      "Downloading https://github.com/ultralytics/yolov5/releases/download/v5.0/yolov5s.pt to C:\\Users\\oriel\\.cache\\torch\\hub\\ultralytics_yolov5_master\\yolov5s.pt...\n"
     ]
    },
    {
     "data": {
      "application/vnd.jupyter.widget-view+json": {
       "model_id": "7a2b59c45e564116ba0bcf4436dc9dde",
       "version_major": 2,
       "version_minor": 0
      },
      "text/plain": [
       "  0%|          | 0.00/14.1M [00:00<?, ?B/s]"
      ]
     },
     "metadata": {},
     "output_type": "display_data"
    },
    {
     "name": "stdout",
     "output_type": "stream",
     "text": [
      "\n"
     ]
    },
    {
     "name": "stderr",
     "output_type": "stream",
     "text": [
      "Fusing layers... \n",
      "Model Summary: 224 layers, 7266973 parameters, 0 gradients\n",
      "Adding AutoShape... \n"
     ]
    }
   ],
   "source": [
    "# Load the model\n",
    "model = torch.hub.load('ultralytics/yolov5', 'yolov5s', force_reload='true')"
   ]
  },
  {
   "cell_type": "code",
   "execution_count": 6,
   "id": "660e8a5f",
   "metadata": {},
   "outputs": [],
   "source": [
    "img = \"https://ultralytics.com/images/zidane.jpg\""
   ]
  },
  {
   "cell_type": "code",
   "execution_count": 7,
   "id": "d193c7cd",
   "metadata": {},
   "outputs": [
    {
     "ename": "NameError",
     "evalue": "name 'model' is not defined",
     "output_type": "error",
     "traceback": [
      "\u001b[1;31m---------------------------------------------------------------------------\u001b[0m",
      "\u001b[1;31mNameError\u001b[0m                                 Traceback (most recent call last)",
      "\u001b[1;32m~\\AppData\\Local\\Temp/ipykernel_12500/660472654.py\u001b[0m in \u001b[0;36m<module>\u001b[1;34m\u001b[0m\n\u001b[0;32m      1\u001b[0m \u001b[1;31m# loading the model\u001b[0m\u001b[1;33m\u001b[0m\u001b[1;33m\u001b[0m\u001b[1;33m\u001b[0m\u001b[0m\n\u001b[1;32m----> 2\u001b[1;33m \u001b[0mresults\u001b[0m \u001b[1;33m=\u001b[0m \u001b[0mmodel\u001b[0m\u001b[1;33m(\u001b[0m\u001b[0mimg\u001b[0m\u001b[1;33m)\u001b[0m\u001b[1;33m\u001b[0m\u001b[1;33m\u001b[0m\u001b[0m\n\u001b[0m\u001b[0;32m      3\u001b[0m \u001b[0mresults\u001b[0m\u001b[1;33m.\u001b[0m\u001b[0mprint\u001b[0m\u001b[1;33m(\u001b[0m\u001b[1;33m)\u001b[0m\u001b[1;33m\u001b[0m\u001b[1;33m\u001b[0m\u001b[0m\n",
      "\u001b[1;31mNameError\u001b[0m: name 'model' is not defined"
     ]
    }
   ],
   "source": [
    "# loading the model\n",
    "results = model(img)\n",
    "results.print()"
   ]
  },
  {
   "cell_type": "code",
   "execution_count": null,
   "id": "fb6bb9bf",
   "metadata": {},
   "outputs": [],
   "source": [
    "# plotting the img with the results\n",
    "%matplotlib inline\n",
    "plt.imshow(np.squeeze(results.render()))\n",
    "plt.show()"
   ]
  },
  {
   "cell_type": "code",
   "execution_count": 23,
   "id": "b7bfcae9",
   "metadata": {},
   "outputs": [],
   "source": [
    "import uuid\n",
    "import os\n",
    "import time"
   ]
  },
  {
   "cell_type": "code",
   "execution_count": 24,
   "id": "a5d2e225",
   "metadata": {},
   "outputs": [],
   "source": [
    "# open the video cam using CV2\n",
    "cap = cv2.VideoCapture(0)\n",
    "while cap.isOpened():\n",
    "    ret, frame = cap.read()\n",
    "    \n",
    "    # make detections\n",
    "    results = model(frame)\n",
    "    \n",
    "    cv2.imshow('YOLO', np.squeeze(results.render()))\n",
    "    \n",
    "    if cv2.waitKey(10) & 0xFF == ord('q'):\n",
    "        break\n",
    "cap.release()\n",
    "cv2.destroyAllWindows()"
   ]
  },
  {
   "cell_type": "code",
   "execution_count": null,
   "id": "220a021c",
   "metadata": {},
   "outputs": [],
   "source": [
    "IMAGES_PATH = os.path.join('data', 'images') # data/images\n",
    "labels =['awake','drowsy']\n",
    "number_imgs = 20\n",
    "# open the video cam using CV2\n",
    "cap = cv2.VideoCapture(0)\n",
    "# looping through labels\n",
    "for label in labels:\n",
    "    print('Collecting images for {}'.format(label))\n",
    "    time.sleep(2)\n",
    "    \n",
    "    # loop through the images\n",
    "    for img_num in range(number_imgs):\n",
    "        print('Collecting images for {}, image number {}'.format(label, img_num)) # collecting the image (msg)\n",
    "        \n",
    "        ret, frame = cap.read() # webcam feed\n",
    "        \n",
    "        imgname = os.path.join(IMAGES_PATH, label + '.' + str(uuid.uuid1())+'.jpg') # save as..\n",
    "        cv2.imwrite(imgname, frame) # actually save it / writes down the image\n",
    "        cv2.imshow('Image collection', frame) # display is for 2 seconds\n",
    "        time.sleep(2)\n",
    "        if cv2.waitKey(10) & 0xFF == ord('q'):\n",
    "            break\n"
   ]
  },
  {
   "cell_type": "code",
   "execution_count": null,
   "id": "133c5bcd",
   "metadata": {},
   "outputs": [],
   "source": [
    "# installed pyqrt5 and ran the resources.py /qrc on cmd "
   ]
  },
  {
   "cell_type": "code",
   "execution_count": null,
   "id": "9c2cf204",
   "metadata": {},
   "outputs": [],
   "source": [
    "# images labeled with labelimg - locally"
   ]
  },
  {
   "cell_type": "code",
   "execution_count": 25,
   "id": "03b71ec2",
   "metadata": {},
   "outputs": [
    {
     "name": "stdout",
     "output_type": "stream",
     "text": [
      "^C\n"
     ]
    }
   ],
   "source": [
    "# training the model on the custom dataset images I made\n",
    "!cd yolov5 && python train.py --img 320 --batch 8 --epochs 200 --data datasets.yml --weights yolov5s.pt --workers 2"
   ]
  },
  {
   "cell_type": "code",
   "execution_count": 28,
   "id": "87e7d6f2",
   "metadata": {},
   "outputs": [
    {
     "name": "stderr",
     "output_type": "stream",
     "text": [
      "Downloading: \"https://github.com/ultralytics/yolov5/archive/master.zip\" to C:\\Users\\oriel/.cache\\torch\\hub\\master.zip\n",
      "YOLOv5  2021-9-18 torch 1.8.2+cu111 CUDA:0 (Quadro P520, 2048.0MB)\n",
      "\n",
      "Fusing layers... \n",
      "Model Summary: 224 layers, 7097062 parameters, 0 gradients, 16.5 GFLOPs\n",
      "Adding AutoShape... \n"
     ]
    }
   ],
   "source": [
    "model = torch.hub.load('ultralytics/yolov5', 'custom', path='yolov5/runs/train/exp16/weights/last.pt', force_reload=True)"
   ]
  },
  {
   "cell_type": "code",
   "execution_count": 30,
   "id": "502aab6e",
   "metadata": {},
   "outputs": [],
   "source": [
    "cap = cv2.VideoCapture(0)\n",
    "while cap.isOpened():\n",
    "    ret, frame = cap.read()\n",
    "    \n",
    "    # Make detections \n",
    "    results = model(frame)\n",
    "    \n",
    "    cv2.imshow('YOLO', np.squeeze(results.render()))\n",
    "    \n",
    "    if cv2.waitKey(10) & 0xFF == ord('q'):\n",
    "        break\n",
    "cap.release()\n",
    "cv2.destroyAllWindows()"
   ]
  },
  {
   "cell_type": "code",
   "execution_count": null,
   "id": "c4bf6235",
   "metadata": {},
   "outputs": [],
   "source": []
  }
 ],
 "metadata": {
  "kernelspec": {
   "display_name": "Python 3 (ipykernel)",
   "language": "python",
   "name": "python3"
  },
  "language_info": {
   "codemirror_mode": {
    "name": "ipython",
    "version": 3
   },
   "file_extension": ".py",
   "mimetype": "text/x-python",
   "name": "python",
   "nbconvert_exporter": "python",
   "pygments_lexer": "ipython3",
   "version": "3.9.6"
  }
 },
 "nbformat": 4,
 "nbformat_minor": 5
}
